{
 "cells": [
  {
   "cell_type": "code",
   "execution_count": 27,
   "metadata": {},
   "outputs": [],
   "source": [
    "import pandas as pd\n",
    "import numpy as np\n",
    "from sklearn.model_selection import train_test_split\n",
    "from sklearn.metrics import accuracy_score\n",
    "from pyts.classification import LearningShapelets\n"
   ]
  },
  {
   "cell_type": "code",
   "execution_count": 28,
   "metadata": {},
   "outputs": [],
   "source": [
    "data = pd.read_csv('/home/huigang39/e-skin/data/emg_all_features_labeled.csv')\n"
   ]
  },
  {
   "cell_type": "code",
   "execution_count": 29,
   "metadata": {},
   "outputs": [],
   "source": [
    "X = data.iloc[:, :-1].values\n",
    "y = data.iloc[:, -1].values\n"
   ]
  },
  {
   "cell_type": "code",
   "execution_count": 30,
   "metadata": {},
   "outputs": [],
   "source": [
    "X_train, X_test, y_train, y_test = train_test_split(X, y, test_size=0.2, random_state=42)\n"
   ]
  },
  {
   "cell_type": "code",
   "execution_count": 31,
   "metadata": {},
   "outputs": [
    {
     "name": "stderr",
     "output_type": "stream",
     "text": [
      "/home/huigang39/.local/lib/python3.10/site-packages/sklearn/cluster/_kmeans.py:870: FutureWarning: The default value of `n_init` will change from 10 to 'auto' in 1.4. Set the value of `n_init` explicitly to suppress the warning\n",
      "  warnings.warn(\n",
      "/home/huigang39/.local/lib/python3.10/site-packages/sklearn/cluster/_kmeans.py:870: FutureWarning: The default value of `n_init` will change from 10 to 'auto' in 1.4. Set the value of `n_init` explicitly to suppress the warning\n",
      "  warnings.warn(\n",
      "/home/huigang39/.local/lib/python3.10/site-packages/sklearn/cluster/_kmeans.py:870: FutureWarning: The default value of `n_init` will change from 10 to 'auto' in 1.4. Set the value of `n_init` explicitly to suppress the warning\n",
      "  warnings.warn(\n"
     ]
    }
   ],
   "source": [
    "clf = LearningShapelets(random_state=42, n_shapelets_per_size=0.2)\n",
    "clf.fit(X_train, y_train)\n"
   ]
  },
  {
   "cell_type": "code",
   "execution_count": null,
   "metadata": {},
   "outputs": [],
   "source": [
    "y_pred = clf.predict(X_test)\n"
   ]
  },
  {
   "cell_type": "code",
   "execution_count": null,
   "metadata": {},
   "outputs": [
    {
     "name": "stdout",
     "output_type": "stream",
     "text": [
      "Accuracy: 66.67%\n"
     ]
    }
   ],
   "source": [
    "accuracy = accuracy_score(y_test, y_pred)\n",
    "print(\"Accuracy: {:.2f}%\".format(accuracy * 100))\n"
   ]
  },
  {
   "cell_type": "code",
   "execution_count": null,
   "metadata": {},
   "outputs": [
    {
     "name": "stdout",
     "output_type": "stream",
     "text": [
      "Predicted label: 2\n"
     ]
    }
   ],
   "source": [
    "test_data_point = np.array([[-0.0078125,-0.015625,0.015625,0.015625,0.0078125,-0.0078125,-0.015625,-0.015625,0,0,0.0078125,-0.054688,-0.023438,0,-0.0078125,0,-0.023438,-0.03125,-0.0078125,-0.0078125,-0.023438,-0.0078125,0,0.015625,0.015625,-0.023438,-0.0078125,0.0078125,-0.03125,0.0078125,-0.023438,0.0078125,0,-0.015625,-0.023438,0.03125,0.0078125,-0.023438,0.015625,-0.023438,0,0.015625,0.0078125,-0.039063,0.03125,-0.0078125,-0.078125,-0.03125,-0.015625,0.0078125,0.085938,-0.16406,0.0078125,-0.125,0.0078125,-0.0625,-0.015625,0.09375,-0.054688,0.0625,-0.10156,0.015625,0.0078125,0.09375,-0.0078125,0,-0.015625,-0.015625,0,-0.039063,-0.0078125,0.0078125,-0.0078125,0.0078125,0.015625,-0.0078125,-0.0078125,-0.0078125,-0.039063,-0.0078125,0.0078125,0.0078125,-0.03125,0.03125,-0.0078125,-0.023438,-0.023438,0.0078125,-0.015625,-0.054688,-0.03125,0,0.0078125,-0.023438,0.0078125,-0.015625,-0.054688,0.0078125,-0.0078125,-0.03125,-0.0078125,0,-0.0078125,-0.0078125,0.0078125,-0.0078125,-0.0078125,-0.015625,0.015625,0.0078125,-0.015625,-0.0078125,0.0078125,0,-0.03125,-0.015625,-0.023438,-0.0078125,0,-0.0078125,-0.03125,-0.023438,0.03125,-0.023438,0,-0.015625,0,-0.015625,0.0078125,-0.0078125,-0.015625,-0.0078125,-0.015625,-0.0078125,-0.015625,-0.0078125,-0.023438,-0.015625,-0.015625,-0.0078125,-0.015625,-0.0078125,-0.0078125,0.0078125,0,-0.039063,-0.0078125,-0.015625,-0.015625,-0.015625]])\n",
    "predicted_label = clf.predict(test_data_point)\n",
    "print(\"Predicted label:\", predicted_label)\n",
    "\n"
   ]
  },
  {
   "cell_type": "code",
   "execution_count": null,
   "metadata": {},
   "outputs": [],
   "source": [
    "# 保存模型\n",
    "import pickle\n",
    "with open('/home/huigang39/e-skin/model/model.pkl', 'wb') as f:\n",
    "    pickle.dump(clf, f)\n"
   ]
  }
 ],
 "metadata": {
  "kernelspec": {
   "display_name": "Python 3",
   "language": "python",
   "name": "python3"
  },
  "language_info": {
   "codemirror_mode": {
    "name": "ipython",
    "version": 3
   },
   "file_extension": ".py",
   "mimetype": "text/x-python",
   "name": "python",
   "nbconvert_exporter": "python",
   "pygments_lexer": "ipython3",
   "version": "3.10.6"
  },
  "orig_nbformat": 4
 },
 "nbformat": 4,
 "nbformat_minor": 2
}
