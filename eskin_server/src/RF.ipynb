{
 "cells": [
  {
   "cell_type": "code",
   "execution_count": 1,
   "metadata": {},
   "outputs": [
    {
     "name": "stdout",
     "output_type": "stream",
     "text": [
      "              precision    recall  f1-score   support\n",
      "\n",
      "           1       0.94      0.97      0.95       226\n",
      "           2       0.92      0.94      0.93       191\n",
      "           3       0.98      0.96      0.97       194\n",
      "           4       0.97      0.95      0.96       207\n",
      "           5       0.95      0.94      0.95       235\n",
      "           6       1.00      0.99      1.00       152\n",
      "           7       0.97      0.99      0.98       160\n",
      "\n",
      "    accuracy                           0.96      1365\n",
      "   macro avg       0.96      0.96      0.96      1365\n",
      "weighted avg       0.96      0.96      0.96      1365\n",
      "\n"
     ]
    }
   ],
   "source": [
    "import pandas as pd\n",
    "from sklearn.model_selection import train_test_split\n",
    "from sklearn.ensemble import RandomForestClassifier\n",
    "from sklearn.metrics import classification_report\n",
    "\n",
    "# 加载数据集\n",
    "data = pd.read_csv('/home/huigang39/dev/E-Skin/data/emg_all_features_labeled.csv')\n",
    "\n",
    "# 拆分数据集\n",
    "X = data.iloc[:, :-1]\n",
    "y = data.iloc[:, -1]\n",
    "X_train, X_test, y_train, y_test = train_test_split(X, y, test_size=0.2, random_state=42)\n",
    "\n",
    "# 训练模型\n",
    "clf = RandomForestClassifier(n_estimators=100, random_state=42)\n",
    "clf.fit(X_train, y_train)\n",
    "\n",
    "# 评估模型\n",
    "y_pred = clf.predict(X_test)\n",
    "print(classification_report(y_test, y_pred))\n"
   ]
  },
  {
   "cell_type": "code",
   "execution_count": 2,
   "metadata": {},
   "outputs": [],
   "source": [
    "# 保存模型\n",
    "import pickle\n",
    "with open('/home/huigang39/dev/E-Skin/model/model.pkl', 'wb') as f:\n",
    "    pickle.dump(clf, f)\n"
   ]
  },
  {
   "cell_type": "code",
   "execution_count": 3,
   "metadata": {},
   "outputs": [],
   "source": [
    "# 加载模型\n",
    "with open('/home/huigang39/dev/E-Skin/model/model.pkl', 'rb') as f:\n",
    "    clf = pickle.load(f)\n"
   ]
  },
  {
   "cell_type": "code",
   "execution_count": 4,
   "metadata": {},
   "outputs": [],
   "source": [
    "new_data = pd.DataFrame([[0.047508,0.074164,0.086584,0.038356,0.023736,0.018826,0.034587,0.064517,0.048584,0.074464,0.086861,0.039348,0.025848,0.021021,0.035835,0.06493,-0.17188,-0.19531,-0.28906,-0.13281,-0.078125,-0.054688,-0.14063,-0.20313,0.09375,0.27344,0.22656,0.09375,0.039063,0.039063,0.070313,0.1875,73,82,72,68,55,41,74,85,0.13984,0.22589,0.26599,0.1149,0.068229,0.058385,0.099792,0.19818,0.13281,0.22656,0.16406,0.10156,0.085938,0.054688,0.054688,0.27344,0.038322,0.055861,0.065431,0.029649,0.018993,0.014701,0.027838,0.050236,8.6641,13.484,15.406,6.9375,4.1484,3.3984,6.1328,12.617,4,3,5,1,0,0,0,3]])\n"
   ]
  },
  {
   "cell_type": "code",
   "execution_count": 5,
   "metadata": {},
   "outputs": [
    {
     "name": "stdout",
     "output_type": "stream",
     "text": [
      "[2]\n",
      "2\n"
     ]
    },
    {
     "name": "stderr",
     "output_type": "stream",
     "text": [
      "/home/huigang39/.conda/envs/tf/lib/python3.9/site-packages/sklearn/base.py:409: UserWarning: X does not have valid feature names, but RandomForestClassifier was fitted with feature names\n",
      "  warnings.warn(\n"
     ]
    }
   ],
   "source": [
    "# 预测标签\n",
    "y_pred = clf.predict(new_data)\n",
    "print(y_pred)\n",
    "print(y_pred[0])"
   ]
  }
 ],
 "metadata": {
  "kernelspec": {
   "display_name": "Python 3",
   "language": "python",
   "name": "python3"
  },
  "language_info": {
   "codemirror_mode": {
    "name": "ipython",
    "version": 3
   },
   "file_extension": ".py",
   "mimetype": "text/x-python",
   "name": "python",
   "nbconvert_exporter": "python",
   "pygments_lexer": "ipython3",
   "version": "3.10.9"
  },
  "orig_nbformat": 4
 },
 "nbformat": 4,
 "nbformat_minor": 2
}
